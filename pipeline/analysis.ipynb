{
 "cells": [
  {
   "cell_type": "markdown",
   "metadata": {},
   "source": [
    "# Museum Analysis\n",
    "\n",
    "This notebook connects to the museum database and conducts simple analysis of the data.\n",
    "\n",
    "## Imports"
   ]
  },
  {
   "cell_type": "code",
   "execution_count": 1,
   "metadata": {},
   "outputs": [],
   "source": [
    "from os import environ\n",
    "from dotenv import load_dotenv\n",
    "from psycopg2 import connect, OperationalError\n",
    "from psycopg2.extras import execute_values, RealDictCursor\n",
    "\n",
    "from pipeline import get_db_connection"
   ]
  },
  {
   "cell_type": "markdown",
   "metadata": {},
   "source": [
    "## Setup"
   ]
  },
  {
   "cell_type": "code",
   "execution_count": 17,
   "metadata": {},
   "outputs": [],
   "source": [
    "load_dotenv()\n",
    "\n",
    "conn = get_db_connection()\n",
    "\n",
    "def run_sql_query(conn, sql_query: str):\n",
    "    \"\"\"Execute a given sql query for database connection\"\"\"\n",
    "\n",
    "    with conn.cursor() as curr:\n",
    "        curr.execute(sql_query)\n",
    "        rows = curr.fetchall()\n",
    "        return rows"
   ]
  },
  {
   "cell_type": "markdown",
   "metadata": {},
   "source": [
    "### 1. What exhibition is most frequently visited?"
   ]
  },
  {
   "cell_type": "code",
   "execution_count": 3,
   "metadata": {},
   "outputs": [
    {
     "data": {
      "text/plain": [
       "'Our Polluted World was the most frequently visited exhibition.'"
      ]
     },
     "execution_count": 3,
     "metadata": {},
     "output_type": "execute_result"
    }
   ],
   "source": [
    "sql_query = \"\"\"\n",
    "            SELECT e.exhibition_name, e.exhibition_id, COUNT(ri.rating_instance_id) AS instance_count\n",
    "            FROM exhibition AS e\n",
    "            JOIN rating_instance as ri\n",
    "                ON e.exhibition_id = ri.exhibition_id\n",
    "            GROUP BY e.exhibition_id, e.exhibition_name\n",
    "            ORDER BY instance_count\n",
    "            DESC\n",
    "            ;\n",
    "            \"\"\"\n",
    "\n",
    "data = run_sql_query(conn, sql_query)\n",
    "data[0].get('exhibition_name') + \" was the most frequently visited exhibition.\""
   ]
  },
  {
   "cell_type": "markdown",
   "metadata": {},
   "source": [
    "### 2. What hour of the day has the most ratings?"
   ]
  },
  {
   "cell_type": "code",
   "execution_count": 4,
   "metadata": {},
   "outputs": [
    {
     "data": {
      "text/plain": [
       "'10:00.'"
      ]
     },
     "execution_count": 4,
     "metadata": {},
     "output_type": "execute_result"
    }
   ],
   "source": [
    "sql_query = \"\"\"\n",
    "            SELECT EXTRACT(HOUR FROM ri.rating_created_at) AS hour,\n",
    "                COUNT(*) as num_ratings\n",
    "            FROM rating_instance AS ri\n",
    "            GROUP BY hour\n",
    "            ORDER BY num_ratings DESC\n",
    "            ;\n",
    "            \"\"\"\n",
    "\n",
    "data = run_sql_query(conn, sql_query)\n",
    "str(data[0].get(\"hour\")) + \":00.\""
   ]
  },
  {
   "cell_type": "markdown",
   "metadata": {},
   "source": [
    "### 3. What is the average rating for each exhibition?"
   ]
  },
  {
   "cell_type": "code",
   "execution_count": 5,
   "metadata": {},
   "outputs": [
    {
     "name": "stdout",
     "output_type": "stream",
     "text": [
      "The average rating for Adaptation is 1.93.\n",
      "The average rating for Cetacean Sensations is 2.83.\n",
      "The average rating for The Crenshaw Collection is 1.43.\n",
      "The average rating for Our Polluted World is 1.22.\n",
      "The average rating for Measureless to Man is 1.92.\n"
     ]
    }
   ],
   "source": [
    "sql_query = \"\"\"\n",
    "            SELECT e.exhibition_name, ROUND(AVG(rt.rating_type_value), 2) as average_rating\n",
    "            FROM exhibition AS e\n",
    "            JOIN rating_instance AS ri\n",
    "            ON e.exhibition_id = ri.exhibition_id\n",
    "            JOIN rating_type AS rt\n",
    "            ON ri.rating_type_id = rt.rating_type_id\n",
    "            GROUP BY e.exhibition_name\n",
    "            ;\n",
    "            \"\"\"\n",
    "\n",
    "data = run_sql_query(conn, sql_query)\n",
    "for exhibition in data:\n",
    "    print(f\"The average rating for {exhibition.get('exhibition_name')} is {exhibition.get('average_rating')}.\")"
   ]
  },
  {
   "cell_type": "markdown",
   "metadata": {},
   "source": [
    "### 4. What proportion of all 4+ ratings are given to exhibition 4?"
   ]
  },
  {
   "cell_type": "code",
   "execution_count": 6,
   "metadata": {},
   "outputs": [
    {
     "name": "stdout",
     "output_type": "stream",
     "text": [
      "Proportion of 4+ ratings in Exhibition 4 (Our Polluted World) = 7%.\n"
     ]
    }
   ],
   "source": [
    "sql_query = \"\"\"\n",
    "            SELECT e.exhibition_id, e.exhibition_name,\n",
    "            SUM(CASE WHEN rt.rating_type_value > 3 THEN 1 ELSE 0 END) * 100 / COUNT(*) AS proportion\n",
    "            FROM exhibition AS e\n",
    "            JOIN rating_instance AS ri\n",
    "            ON ri.exhibition_id = e.exhibition_id\n",
    "            JOIN rating_type as rt\n",
    "            ON rt.rating_type_id = ri.rating_type_id\n",
    "            WHERE e.exhibition_id = 5\n",
    "            GROUP BY e.exhibition_id;\n",
    "            \"\"\"\n",
    "\n",
    "data = run_sql_query(conn, sql_query)\n",
    "exhibition = data[0]\n",
    "print(\n",
    "    f\"Proportion of 4+ ratings in Exhibition 4 ({exhibition.get('exhibition_name')}) = {exhibition.get('proportion')}%.\")"
   ]
  },
  {
   "cell_type": "markdown",
   "metadata": {},
   "source": [
    "### 5. Are positive ratings more frequent before or after 1pm?"
   ]
  },
  {
   "cell_type": "code",
   "execution_count": 7,
   "metadata": {},
   "outputs": [
    {
     "name": "stdout",
     "output_type": "stream",
     "text": [
      "After.\n"
     ]
    }
   ],
   "source": [
    "sql_query = \"\"\"\n",
    "            SELECT\n",
    "            ROUND(SUM(CASE WHEN EXTRACT(HOUR FROM ri.rating_created_at) < 13 THEN 1 ELSE 0 END) * 100.0 / COUNT(*), 1)\n",
    "                AS positive_before_1pm,\n",
    "            ROUND(SUM(CASE WHEN EXTRACT(HOUR FROM ri.rating_created_at) >= 13 THEN 1 ELSE 0 END) * 100.0 / COUNT(*), 1)\n",
    "                AS positive_1pm_and_beyond\n",
    "            FROM exhibition AS e\n",
    "            JOIN rating_instance AS ri\n",
    "            ON ri.exhibition_id = e.exhibition_id\n",
    "            JOIN rating_type AS rt\n",
    "            ON rt.rating_type_id = ri.rating_type_id\n",
    "            WHERE rating_type_value >= 3\n",
    "            ;\n",
    "            \"\"\"\n",
    "\n",
    "data = run_sql_query(conn, sql_query)\n",
    "before = int(data[0].get('positive_before_1pm'))\n",
    "after = int(data[0].get('positive_1pm_and_beyond'))\n",
    "if before > after:\n",
    "    print(\"Before.\")\n",
    "else:\n",
    "    print(\"After.\")"
   ]
  },
  {
   "cell_type": "markdown",
   "metadata": {},
   "source": [
    "### 6. How many ratings each hour are above the average rating for exhibition 4?"
   ]
  },
  {
   "cell_type": "code",
   "execution_count": 8,
   "metadata": {},
   "outputs": [
    {
     "name": "stdout",
     "output_type": "stream",
     "text": [
      "117 ratings were above average at 14:00.\n",
      "37 ratings were above average at 18:00.\n",
      "123 ratings were above average at 11:00.\n",
      "139 ratings were above average at 10:00.\n",
      "125 ratings were above average at 17:00.\n",
      "110 ratings were above average at 12:00.\n",
      "146 ratings were above average at 13:00.\n",
      "122 ratings were above average at 16:00.\n",
      "98 ratings were above average at 15:00.\n",
      "129 ratings were above average at 9:00.\n",
      "66 ratings were above average at 8:00.\n"
     ]
    }
   ],
   "source": [
    "sql_query = \"\"\"\n",
    "            SELECT COUNT(*), EXTRACT(HOUR FROM rating_instance.rating_created_at) AS hour\n",
    "            FROM rating_instance\n",
    "            JOIN rating_type\n",
    "            ON rating_type.rating_type_id = rating_instance.rating_type_id\n",
    "            WHERE rating_type_value > (\n",
    "                SELECT AVG(rating_type_value) FROM rating_instance\n",
    "                JOIN rating_type\n",
    "                ON rating_type.rating_type_id = rating_instance.rating_type_id\n",
    "                JOIN exhibition\n",
    "                ON exhibition.exhibition_id = rating_instance.exhibition_id\n",
    "                WHERE exhibition.exhibition_id = 5\n",
    "            )\n",
    "            GROUP BY EXTRACT(HOUR FROM rating_instance.rating_created_at)\n",
    "            ;\n",
    "            \"\"\"\n",
    "\n",
    "data = run_sql_query(conn, sql_query)\n",
    "for time in data:\n",
    "    print(f\"{time.get('count')} ratings were above average at {time.get('hour')}:00.\")\n"
   ]
  },
  {
   "cell_type": "markdown",
   "metadata": {},
   "source": [
    "### 7. Do Zoology exhibitions get better ratings than other types?"
   ]
  },
  {
   "cell_type": "code",
   "execution_count": 9,
   "metadata": {},
   "outputs": [
    {
     "name": "stdout",
     "output_type": "stream",
     "text": [
      "Yes.\n"
     ]
    }
   ],
   "source": [
    "sql_query = \"\"\"\n",
    "            SELECT d.department_id, d.department_name, SUM(rt.rating_type_value) AS total_ratings\n",
    "            FROM department AS d\n",
    "            JOIN exhibition AS e\n",
    "            ON d.department_id = e.department_id\n",
    "            JOIN rating_instance AS ri\n",
    "            ON ri.exhibition_id = e.exhibition_id\n",
    "            JOIN rating_type AS rt\n",
    "            ON rt.rating_type_id = ri.rating_type_id\n",
    "            GROUP BY d.department_id\n",
    "            ORDER BY total_ratings\n",
    "            DESC\n",
    "            ;\n",
    "            \"\"\"\n",
    "\n",
    "data = run_sql_query(conn, sql_query)\n",
    "if data[0].get('department_name') == 'Zoology':\n",
    "    print('Yes.')"
   ]
  },
  {
   "cell_type": "markdown",
   "metadata": {},
   "source": [
    "### 8. What exhibition has the most emergencies?"
   ]
  },
  {
   "cell_type": "code",
   "execution_count": 10,
   "metadata": {},
   "outputs": [
    {
     "name": "stdout",
     "output_type": "stream",
     "text": [
      "The Crenshaw Collection has the most emergencies, with 2 emergencies.\n"
     ]
    }
   ],
   "source": [
    "sql_query = \"\"\"\n",
    "            SELECT e.exhibition_name, SUM(CASE WHEN st.support_description = 'Emergency' THEN 1 ELSE 0 END) AS emergency_count\n",
    "            FROM exhibition AS e\n",
    "            JOIN support_instance AS si\n",
    "            ON e.exhibition_id = si.exhibition_id\n",
    "            JOIN support_type AS st\n",
    "            ON si.support_type_id = st.support_type_id\n",
    "            GROUP BY exhibition_name\n",
    "            ORDER BY emergency_count\n",
    "            DESC\n",
    "            ;\n",
    "            \"\"\"\n",
    "data = run_sql_query(conn, sql_query)\n",
    "print(f\"{data[0].get('exhibition_name')} has the most emergencies, with {data[0].get('emergency_count')} emergencies.\")"
   ]
  },
  {
   "cell_type": "markdown",
   "metadata": {},
   "source": [
    "### 9. Which exhibitions receive fewer assistance requests than the average?"
   ]
  },
  {
   "cell_type": "code",
   "execution_count": 11,
   "metadata": {},
   "outputs": [
    {
     "name": "stdout",
     "output_type": "stream",
     "text": [
      "Adaptation\n",
      "Measureless to Man\n",
      "Our Polluted World\n",
      "The Crenshaw Collection\n"
     ]
    }
   ],
   "source": [
    "sql_query = \"\"\"\n",
    "            WITH exh_assistances AS\n",
    "                (SELECT e.exhibition_name, COUNT(*) as assistance_count\n",
    "                FROM exhibition AS e\n",
    "                JOIN support_instance AS si\n",
    "                    ON si.exhibition_id = e.exhibition_id\n",
    "                JOIN support_type AS st\n",
    "                    ON st.support_type_id = si.support_type_id\n",
    "                WHERE st.support_type_value = 0\n",
    "                GROUP BY e.exhibition_name),\n",
    "            average_requests_count AS\n",
    "                (\n",
    "                    SELECT ROUND(AVG(assistance_count), 0) as total_average\n",
    "                    FROM exh_assistances\n",
    "                )\n",
    "            SELECT ea.exhibition_name,\n",
    "                CASE WHEN\n",
    "                    assistance_count < total_average THEN true ELSE false END AS fewer\n",
    "                FROM exh_assistances AS ea\n",
    "                CROSS JOIN average_requests_count;\n",
    "            \"\"\"\n",
    "\n",
    "data = run_sql_query(conn, sql_query)\n",
    "for exhibition in data:\n",
    "    if exhibition.get('fewer') == True:\n",
    "        print(exhibition.get('exhibition_name'))"
   ]
  },
  {
   "cell_type": "markdown",
   "metadata": {},
   "source": [
    "### 10. Are there particular times when assistance requests/emergencies are more likely?"
   ]
  },
  {
   "cell_type": "code",
   "execution_count": 12,
   "metadata": {},
   "outputs": [
    {
     "data": {
      "text/plain": [
       "['14:00',\n",
       " '17:00',\n",
       " '18:00',\n",
       " '11:00',\n",
       " '15:00',\n",
       " '12:00',\n",
       " '9:00',\n",
       " '13:00',\n",
       " '16:00',\n",
       " '10:00',\n",
       " '8:00']"
      ]
     },
     "execution_count": 12,
     "metadata": {},
     "output_type": "execute_result"
    }
   ],
   "source": [
    "sql_query = \"\"\"\n",
    "            SELECT COUNT(*), EXTRACT(HOUR FROM support_instance.instance_created_at) AS hour\n",
    "            FROM support_instance\n",
    "            JOIN support_type\n",
    "            ON support_type.support_type_id = support_type.support_type_id\n",
    "            WHERE support_type_value > (\n",
    "                SELECT AVG(support_type_value) FROM support_instance\n",
    "                JOIN support_type\n",
    "                ON support_type.support_type_id = support_instance.support_type_id\n",
    "                JOIN exhibition\n",
    "                ON exhibition.exhibition_id = support_instance.exhibition_id\n",
    "            )\n",
    "            GROUP BY EXTRACT(HOUR FROM support_instance.instance_created_at)\n",
    "            ;\n",
    "            \"\"\"\n",
    "\n",
    "data = run_sql_query(conn, sql_query)\n",
    "times = [str(time.get('hour')) + \":00\" for time in data]\n",
    "times"
   ]
  },
  {
   "cell_type": "markdown",
   "metadata": {},
   "source": [
    "### 11. Are emergencies more likely in exhibitions that are more exciting than others?"
   ]
  },
  {
   "cell_type": "code",
   "execution_count": 35,
   "metadata": {},
   "outputs": [
    {
     "name": "stdout",
     "output_type": "stream",
     "text": [
      "No.\n"
     ]
    }
   ],
   "source": [
    "sql_query = \"\"\"\n",
    "            WITH exhibition_excitement AS (\n",
    "                SELECT e.exhibition_id, e.exhibition_name, ROUND(AVG(rt.rating_type_value), 2),\n",
    "            (CASE WHEN AVG(rt.rating_type_value) > (\n",
    "                SELECT AVG(rt.rating_type_value)\n",
    "                FROM rating_instance AS ri\n",
    "                LEFT JOIN rating_type AS rt\n",
    "                ON (ri.rating_type_id = rt.rating_type_id)\n",
    "            ) THEN 'more_exciting' ELSE 'less_exciting' END) AS excitement\n",
    "            FROM rating_instance AS ri\n",
    "            LEFT JOIN exhibition AS e\n",
    "            ON (e.exhibition_id = ri.exhibition_id)\n",
    "            LEFT JOIN rating_type AS rt\n",
    "            ON (rt.rating_type_id = ri.rating_type_id)\n",
    "            GROUP BY e.exhibition_id, e.exhibition_name\n",
    "            ),\n",
    "\n",
    "            emergency_count AS (\n",
    "                SELECT e.exhibition_id, COUNT(*) AS count\n",
    "                FROM exhibition AS e\n",
    "                LEFT JOIN support_instance AS si\n",
    "                ON (e.exhibition_id = si.exhibition_id)\n",
    "                LEFT JOIN support_type AS st\n",
    "                ON (st.support_type_id = si.support_type_id)\n",
    "                WHERE st.support_description = 'Emergency'\n",
    "                GROUP BY e.exhibition_id\n",
    "            )\n",
    "\n",
    "            SELECT ee.exhibition_name, ee.excitement, COALESCE(ec.count, 0) AS ec_count\n",
    "            FROM exhibition_excitement AS ee\n",
    "            LEFT JOIN emergency_count AS ec\n",
    "            ON ee.exhibition_id = ec.exhibition_id\n",
    "            ;\n",
    "            \"\"\"\n",
    "\n",
    "data = run_sql_query(conn, sql_query)\n",
    "less_exciting = [exhibit for exhibit in data if exhibit.get(\n",
    "    'excitement') == 'less_exciting' and int(exhibit.get('ec_count')) > 0]\n",
    "more_exciting = [exhibit for exhibit in data if exhibit.get(\n",
    "    'excitement') == 'more_exciting' and int(exhibit.get('ec_count')) > 0]\n",
    "if len(less_exciting) > len(more_exciting):\n",
    "    print('No.')\n",
    "else:\n",
    "    print('Yes.')"
   ]
  },
  {
   "cell_type": "markdown",
   "metadata": {},
   "source": [
    "### 12. Which floors are above average for ratings?"
   ]
  },
  {
   "cell_type": "code",
   "execution_count": 36,
   "metadata": {},
   "outputs": [
    {
     "name": "stdout",
     "output_type": "stream",
     "text": [
      "Floor Vault is above average rating, at a rating of 1.93.\n",
      "Floor 1 is above average rating, at a rating of 2.47.\n"
     ]
    }
   ],
   "source": [
    "sql_query = \"\"\"\n",
    "            WITH floor_average_rating AS (\n",
    "                SELECT f.floor, AVG(rt.rating_type_value) AS avg_rating\n",
    "                FROM floor AS f\n",
    "                JOIN exhibition AS e\n",
    "                    ON f.floor_id = e.floor_id\n",
    "                JOIN rating_instance AS ri\n",
    "                    ON e.exhibition_id = ri.exhibition_id\n",
    "                JOIN rating_type AS rt\n",
    "                    ON rt.rating_type_id = ri.rating_type_id\n",
    "                GROUP BY\n",
    "                    f.floor\n",
    "            )\n",
    "            SELECT far.floor, ROUND(far.avg_rating, 2) AS floor_rating\n",
    "            FROM floor_average_rating AS far\n",
    "            WHERE far.avg_rating > (SELECT AVG(avg_rating) FROM floor_average_rating)\n",
    "            ;\n",
    "            \"\"\"\n",
    "\n",
    "data = run_sql_query(conn, sql_query)\n",
    "for floor in data:\n",
    "    print(f\"Floor {floor.get('floor')} is above average rating, at a rating of {floor.get('floor_rating')}.\")"
   ]
  },
  {
   "cell_type": "markdown",
   "metadata": {},
   "source": [
    "## End\n",
    "\n",
    "Close the connection to the database."
   ]
  },
  {
   "cell_type": "code",
   "execution_count": 28,
   "metadata": {},
   "outputs": [],
   "source": [
    "conn.rollback()\n",
    "conn.close()"
   ]
  }
 ],
 "metadata": {
  "kernelspec": {
   "display_name": "venv",
   "language": "python",
   "name": "python3"
  },
  "language_info": {
   "codemirror_mode": {
    "name": "ipython",
    "version": 3
   },
   "file_extension": ".py",
   "mimetype": "text/x-python",
   "name": "python",
   "nbconvert_exporter": "python",
   "pygments_lexer": "ipython3",
   "version": "3.11.7"
  }
 },
 "nbformat": 4,
 "nbformat_minor": 2
}
